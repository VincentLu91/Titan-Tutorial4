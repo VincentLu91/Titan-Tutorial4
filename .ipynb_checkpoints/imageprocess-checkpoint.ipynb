{
 "cells": [
  {
   "cell_type": "code",
   "execution_count": 1,
   "metadata": {},
   "outputs": [
    {
     "name": "stdout",
     "output_type": "stream",
     "text": [
      "Requirement already satisfied: Cython in /opt/anaconda3/lib/python3.6/site-packages (from -r requirements.txt (line 1)) (0.29.12)\n",
      "Requirement already satisfied: numpy in /opt/anaconda3/lib/python3.6/site-packages (from -r requirements.txt (line 2)) (1.16.4)\n",
      "Requirement already satisfied: opencv-python in /opt/anaconda3/lib/python3.6/site-packages (from -r requirements.txt (line 3)) (4.2.0.32)\n",
      "Requirement already satisfied: tqdm in /opt/anaconda3/lib/python3.6/site-packages (from -r requirements.txt (line 4)) (4.46.0)\n",
      "Requirement already satisfied: requests in /opt/anaconda3/lib/python3.6/site-packages (from -r requirements.txt (line 5)) (2.22.0)\n",
      "Requirement already satisfied: torchvision in /opt/anaconda3/lib/python3.6/site-packages (from -r requirements.txt (line 6)) (0.5.0)\n",
      "Requirement already satisfied: torch>=1.3 in /opt/anaconda3/lib/python3.6/site-packages (from -r requirements.txt (line 7)) (1.4.0)\n",
      "Requirement already satisfied: matplotlib in /opt/anaconda3/lib/python3.6/site-packages (from -r requirements.txt (line 8)) (3.1.1)\n",
      "Requirement already satisfied: pycocotools in /opt/anaconda3/lib/python3.6/site-packages/pycocotools-2.0-py3.6-macosx-10.7-x86_64.egg (from -r requirements.txt (line 9)) (2.0)\n",
      "Requirement already satisfied: Pillow==6.1 in /opt/anaconda3/lib/python3.6/site-packages (from -r requirements.txt (line 10)) (6.1.0)\n",
      "Requirement already satisfied: urllib3!=1.25.0,!=1.25.1,<1.26,>=1.21.1 in /opt/anaconda3/lib/python3.6/site-packages (from requests->-r requirements.txt (line 5)) (1.24.2)\n",
      "Requirement already satisfied: certifi>=2017.4.17 in /opt/anaconda3/lib/python3.6/site-packages (from requests->-r requirements.txt (line 5)) (2019.9.11)\n",
      "Requirement already satisfied: chardet<3.1.0,>=3.0.2 in /opt/anaconda3/lib/python3.6/site-packages (from requests->-r requirements.txt (line 5)) (3.0.4)\n",
      "Requirement already satisfied: idna<2.9,>=2.5 in /opt/anaconda3/lib/python3.6/site-packages (from requests->-r requirements.txt (line 5)) (2.8)\n",
      "Requirement already satisfied: six in /opt/anaconda3/lib/python3.6/site-packages (from torchvision->-r requirements.txt (line 6)) (1.12.0)\n",
      "Requirement already satisfied: cycler>=0.10 in /opt/anaconda3/lib/python3.6/site-packages (from matplotlib->-r requirements.txt (line 8)) (0.10.0)\n",
      "Requirement already satisfied: kiwisolver>=1.0.1 in /opt/anaconda3/lib/python3.6/site-packages (from matplotlib->-r requirements.txt (line 8)) (1.1.0)\n",
      "Requirement already satisfied: pyparsing!=2.0.4,!=2.1.2,!=2.1.6,>=2.0.1 in /opt/anaconda3/lib/python3.6/site-packages (from matplotlib->-r requirements.txt (line 8)) (2.4.2)\n",
      "Requirement already satisfied: python-dateutil>=2.1 in /opt/anaconda3/lib/python3.6/site-packages (from matplotlib->-r requirements.txt (line 8)) (2.8.0)\n",
      "Requirement already satisfied: setuptools>=18.0 in /opt/anaconda3/lib/python3.6/site-packages (from pycocotools->-r requirements.txt (line 9)) (41.4.0)\n"
     ]
    }
   ],
   "source": [
    "!pip install -r requirements.txt"
   ]
  },
  {
   "cell_type": "code",
   "execution_count": 2,
   "metadata": {},
   "outputs": [
    {
     "name": "stdout",
     "output_type": "stream",
     "text": [
      "PyTorch 1.4.0 CPU\n"
     ]
    }
   ],
   "source": [
    "import time\n",
    "import glob\n",
    "import torch\n",
    "import os\n",
    "import requests\n",
    "import json\n",
    "import sys\n",
    "import uuid\n",
    "import requests\n",
    "import subprocess\n",
    "from os.path import exists, join, basename, splitext\n",
    "from IPython.display import Image, clear_output \n",
    "print('PyTorch %s %s' % (torch.__version__, torch.cuda.get_device_properties(0) if torch.cuda.is_available() else 'CPU'))"
   ]
  },
  {
   "cell_type": "code",
   "execution_count": 3,
   "metadata": {},
   "outputs": [
    {
     "name": "stdout",
     "output_type": "stream",
     "text": [
      "fatal: destination path 'yolov3' already exists and is not an empty directory.\n",
      "bash: yolov3/data/get_coco_dataset_gdrive.sh: No such file or directory\n",
      "/Users/vincentlu/Documents/MachineLearning/AIDD/Exploring_Other_Tech/TitanTutorials/Tutorial4/yolov3\n"
     ]
    }
   ],
   "source": [
    "!git clone https://github.com/ultralytics/yolov3  # clone\n",
    "!bash yolov3/data/get_coco_dataset_gdrive.sh  # copy COCO2014 dataset (19GB)\n",
    "%cd yolov3"
   ]
  },
  {
   "cell_type": "code",
   "execution_count": 4,
   "metadata": {},
   "outputs": [],
   "source": [
    "def download_image(url):\n",
    "    \"\"\"\n",
    "    Downloads and persists into disk a given image via URL.\n",
    "    \"\"\"\n",
    "    r = requests.get(url)\n",
    "    temp_file = 'image-output-' + uuid.uuid4().hex + '.jpg'\n",
    "    with open(temp_file, 'wb') as f:\n",
    "        f.write(r.content)\n",
    "    return temp_file\n",
    "\n",
    "\n",
    "def process(request):\n",
    "    \"\"\"\n",
    "    Process image and return detection result.\n",
    "    \"\"\"\n",
    "    args = request.get('args', {})\n",
    "    \n",
    "    urls = args.get('param', args.get('url', None))\n",
    "    if not urls or len(urls) < 1:\n",
    "        raise TypeError('Bad request: missing or invalid query param url field')\n",
    "    if not urls[0].startswith('http'):\n",
    "        raise TypeError('Bad request: url param must be a full URL value')\n",
    "    \n",
    "    # Download image\n",
    "    image_file = download_image(urls[0])\n",
    "    \n",
    "    # Detect image object\n",
    "    url = urls[0]\n",
    "    artifacts_path = '../artifacts'\n",
    "    result = subprocess.run([\"python\", \"detect.py\", \"--source\", './' + image_file, '--output', artifacts_path])\n",
    "    if result.returncode > 0:\n",
    "        return json.dumps({ 'error': 'Operation failed with an error code. Try it again with a new image.' })\n",
    "\n",
    "    # filename = basename(url)\n",
    "    if not os.path.exists('../artifacts'):\n",
    "        os.mkdir('../artifacts', 0o755)\n",
    "    \n",
    "    # Clean up local files\n",
    "    if os.path.exists(image_file):\n",
    "        os.remove(image_file)\n",
    "\n",
    "    return image_file"
   ]
  },
  {
   "cell_type": "code",
   "execution_count": 5,
   "metadata": {},
   "outputs": [],
   "source": [
    "# Mock request object for local API testing\n",
    "args = {\n",
    "    'param': ['https://m.eldiario.es/fotos/economista-austriaco-Friedrich-Hayek_EDIIMA20191018_0960_19.jpg']\n",
    "}\n",
    "REQUEST = json.dumps({ 'args': args })"
   ]
  },
  {
   "cell_type": "code",
   "execution_count": 6,
   "metadata": {},
   "outputs": [
    {
     "name": "stdout",
     "output_type": "stream",
     "text": [
      "{\"result\": {\"path\": \"artifacts/{\\\"error\\\": \\\"Operation failed with an error code. Try it again with a new image.\\\"}\"}}\n"
     ]
    }
   ],
   "source": [
    "# GET /detect\n",
    "status = 200\n",
    "location = None\n",
    "content_type = 'application/json'\n",
    "\n",
    "try:\n",
    "    request = json.loads(REQUEST)\n",
    "    image_file = process(request)\n",
    "    if request['args'].get('redirect', [False])[0] == 'true':\n",
    "        location = 'artifacts/' + image_file\n",
    "        print(json.dumps({ 'location': 'artifacts/' + image_file }))\n",
    "    else:\n",
    "        print(json.dumps({ 'result': { 'path': 'artifacts/' + image_file } }))\n",
    "except Exception as err:\n",
    "    status = 500\n",
    "    content_type = 'application/json'\n",
    "    print(json.dumps({ 'error': 'Cannot process image due to an error: {}'.format(err)}))"
   ]
  },
  {
   "cell_type": "code",
   "execution_count": 7,
   "metadata": {},
   "outputs": [
    {
     "name": "stdout",
     "output_type": "stream",
     "text": [
      "{\"headers\": {\"Content-Type\": \"application/json\"}, \"status\": 200}\n"
     ]
    }
   ],
   "source": [
    "# ResponseInfo GET /detect\n",
    "headers = {\n",
    "    'Content-Type': content_type\n",
    "}\n",
    "\n",
    "if location:\n",
    "    headers['Location'] = location\n",
    "\n",
    "print(json.dumps({\n",
    "    \"headers\" : headers,\n",
    "    \"status\": status\n",
    "}))"
   ]
  },
  {
   "cell_type": "code",
   "execution_count": 10,
   "metadata": {},
   "outputs": [],
   "source": [
    "# IMAGE_URL = 'https://i.postimg.cc/rF3W27kn/https-bucketeer-e05bbc84-baa3-437e-9518-adb32be77984-s3-amazon.png'\n",
    "# image_file = basename(IMAGE_URL)\n",
    "\n",
    "# !curl -s -O output/$image_file $IMAGE_URL\n",
    "# !curl -s -O data/samples/$image_file $IMAGE_URL\n",
    "\n",
    "# !python3 detect.py\n",
    "# Image(filename='output/https-bucketeer-e05bbc84-baa3-437e-9518-adb32be77984-s3-amazon.png', width=600)"
   ]
  },
  {
   "cell_type": "code",
   "execution_count": null,
   "metadata": {},
   "outputs": [],
   "source": []
  }
 ],
 "metadata": {
  "kernelspec": {
   "display_name": "Python 3",
   "language": "python",
   "name": "python3"
  },
  "language_info": {
   "codemirror_mode": {
    "name": "ipython",
    "version": 3
   },
   "file_extension": ".py",
   "mimetype": "text/x-python",
   "name": "python",
   "nbconvert_exporter": "python",
   "pygments_lexer": "ipython3",
   "version": "3.6.9"
  }
 },
 "nbformat": 4,
 "nbformat_minor": 4
}
